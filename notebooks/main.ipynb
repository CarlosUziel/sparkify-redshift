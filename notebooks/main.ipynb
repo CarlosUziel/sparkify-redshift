{
 "cells": [
  {
   "cell_type": "markdown",
   "metadata": {},
   "source": [
    "# Data Warehouses and ETL on AWS\n"
   ]
  },
  {
   "cell_type": "code",
   "execution_count": 1,
   "metadata": {},
   "outputs": [],
   "source": [
    "%load_ext autoreload\n",
    "%autoreload 2"
   ]
  },
  {
   "cell_type": "code",
   "execution_count": 2,
   "metadata": {},
   "outputs": [],
   "source": [
    "import sys\n",
    "import logging\n",
    "import warnings\n",
    "import boto3\n",
    "import json\n",
    "import pandas as pd\n",
    "from rich import traceback\n",
    "from pathlib import Path\n",
    "from IPython.core import display as ICD"
   ]
  },
  {
   "cell_type": "code",
   "execution_count": 3,
   "metadata": {},
   "outputs": [],
   "source": [
    "src_path: str = \"../src\"\n",
    "sys.path.append(src_path)\n",
    "_ = traceback.install()\n",
    "logging.basicConfig(force=True)\n",
    "logging.getLogger().setLevel(logging.ERROR)\n",
    "warnings.filterwarnings(\"ignore\")"
   ]
  },
  {
   "cell_type": "code",
   "execution_count": 4,
   "metadata": {},
   "outputs": [],
   "source": [
    "from utils import (\n",
    "    process_config,\n",
    "    open_db_port,\n",
    "    delete_cluster,\n",
    "    delete_iam_roles,\n",
    "    get_db_connection,\n",
    ")\n",
    "from create_dwh import main as run_create_dwh\n",
    "from create_tables import main as run_create_tables\n",
    "from etl import main as run_etl\n",
    "from sql_queries import STAR_TABLES, get_simple_select_query"
   ]
  },
  {
   "cell_type": "code",
   "execution_count": 5,
   "metadata": {},
   "outputs": [],
   "source": [
    "user_config, dwh_config = (\n",
    "    process_config(Path(\"../_user.cfg\")),\n",
    "    process_config(Path(\"../dwh.cfg\")),\n",
    ")"
   ]
  },
  {
   "cell_type": "markdown",
   "metadata": {},
   "source": [
    "## 1. Explore source data\n"
   ]
  },
  {
   "cell_type": "markdown",
   "metadata": {},
   "source": [
    "### 1.1. Get S3 client"
   ]
  },
  {
   "cell_type": "code",
   "execution_count": 6,
   "metadata": {},
   "outputs": [],
   "source": [
    "s3_client = boto3.resource(\n",
    "    \"s3\",\n",
    "    aws_access_key_id=user_config.get(\"AWS\", \"KEY\"),\n",
    "    aws_secret_access_key=user_config.get(\"AWS\", \"SECRET\"),\n",
    "    region_name=dwh_config.get(\"GENERAL\", \"REGION\"),\n",
    ")"
   ]
  },
  {
   "cell_type": "code",
   "execution_count": 7,
   "metadata": {},
   "outputs": [],
   "source": [
    "udacity_bucket = s3_client.Bucket(\"udacity-dend\")"
   ]
  },
  {
   "cell_type": "markdown",
   "metadata": {},
   "source": [
    "### 1.2. Explore the song dataset"
   ]
  },
  {
   "cell_type": "code",
   "execution_count": 8,
   "metadata": {},
   "outputs": [
    {
     "data": {
      "text/plain": [
       "[s3.ObjectSummary(bucket_name='udacity-dend', key='song_data/'),\n",
       " s3.ObjectSummary(bucket_name='udacity-dend', key='song_data/A/A/A/TRAAAAK128F9318786.json'),\n",
       " s3.ObjectSummary(bucket_name='udacity-dend', key='song_data/A/A/A/TRAAAAV128F421A322.json'),\n",
       " s3.ObjectSummary(bucket_name='udacity-dend', key='song_data/A/A/A/TRAAABD128F429CF47.json'),\n",
       " s3.ObjectSummary(bucket_name='udacity-dend', key='song_data/A/A/A/TRAAACN128F9355673.json')]"
      ]
     },
     "execution_count": 8,
     "metadata": {},
     "output_type": "execute_result"
    }
   ],
   "source": [
    "song_objects = [f for f in udacity_bucket.objects.limit(5).filter(Prefix=\"song_data\")]\n",
    "song_objects"
   ]
  },
  {
   "cell_type": "markdown",
   "metadata": {},
   "source": [
    "Print contents of the first few files"
   ]
  },
  {
   "cell_type": "code",
   "execution_count": 9,
   "metadata": {},
   "outputs": [
    {
     "data": {
      "text/html": [
       "<div>\n",
       "<style scoped>\n",
       "    .dataframe tbody tr th:only-of-type {\n",
       "        vertical-align: middle;\n",
       "    }\n",
       "\n",
       "    .dataframe tbody tr th {\n",
       "        vertical-align: top;\n",
       "    }\n",
       "\n",
       "    .dataframe thead th {\n",
       "        text-align: right;\n",
       "    }\n",
       "</style>\n",
       "<table border=\"1\" class=\"dataframe\">\n",
       "  <thead>\n",
       "    <tr style=\"text-align: right;\">\n",
       "      <th></th>\n",
       "      <th>artist_id</th>\n",
       "      <th>artist_latitude</th>\n",
       "      <th>artist_location</th>\n",
       "      <th>artist_longitude</th>\n",
       "      <th>artist_name</th>\n",
       "      <th>duration</th>\n",
       "      <th>num_songs</th>\n",
       "      <th>song_id</th>\n",
       "      <th>title</th>\n",
       "      <th>year</th>\n",
       "    </tr>\n",
       "  </thead>\n",
       "  <tbody>\n",
       "    <tr>\n",
       "      <th>TRAAAAK128F9318786</th>\n",
       "      <td>ARJNIUY12298900C91</td>\n",
       "      <td>None</td>\n",
       "      <td></td>\n",
       "      <td>None</td>\n",
       "      <td>Adelitas Way</td>\n",
       "      <td>213.9424</td>\n",
       "      <td>1</td>\n",
       "      <td>SOBLFFE12AF72AA5BA</td>\n",
       "      <td>Scream</td>\n",
       "      <td>2009</td>\n",
       "    </tr>\n",
       "    <tr>\n",
       "      <th>TRAAAAV128F421A322</th>\n",
       "      <td>AR73AIO1187B9AD57B</td>\n",
       "      <td>37.77916</td>\n",
       "      <td>San Francisco, CA</td>\n",
       "      <td>-122.42005</td>\n",
       "      <td>Western Addiction</td>\n",
       "      <td>118.07302</td>\n",
       "      <td>1</td>\n",
       "      <td>SOQPWCR12A6D4FB2A3</td>\n",
       "      <td>A Poor Recipe For Civic Cohesion</td>\n",
       "      <td>2005</td>\n",
       "    </tr>\n",
       "    <tr>\n",
       "      <th>TRAAABD128F429CF47</th>\n",
       "      <td>ARMJAGH1187FB546F3</td>\n",
       "      <td>35.14968</td>\n",
       "      <td>Memphis, TN</td>\n",
       "      <td>-90.04892</td>\n",
       "      <td>The Box Tops</td>\n",
       "      <td>148.03546</td>\n",
       "      <td>1</td>\n",
       "      <td>SOCIWDW12A8C13D406</td>\n",
       "      <td>Soul Deep</td>\n",
       "      <td>1969</td>\n",
       "    </tr>\n",
       "    <tr>\n",
       "      <th>TRAAACN128F9355673</th>\n",
       "      <td>AR9Q9YC1187FB5609B</td>\n",
       "      <td>None</td>\n",
       "      <td>New Jersey</td>\n",
       "      <td>None</td>\n",
       "      <td>Quest_ Pup_ Kevo</td>\n",
       "      <td>252.94322</td>\n",
       "      <td>1</td>\n",
       "      <td>SOFRDWL12A58A7CEF7</td>\n",
       "      <td>Hit Da Scene</td>\n",
       "      <td>0</td>\n",
       "    </tr>\n",
       "  </tbody>\n",
       "</table>\n",
       "</div>"
      ],
      "text/plain": [
       "                             artist_id artist_latitude    artist_location  \\\n",
       "TRAAAAK128F9318786  ARJNIUY12298900C91            None                      \n",
       "TRAAAAV128F421A322  AR73AIO1187B9AD57B        37.77916  San Francisco, CA   \n",
       "TRAAABD128F429CF47  ARMJAGH1187FB546F3        35.14968        Memphis, TN   \n",
       "TRAAACN128F9355673  AR9Q9YC1187FB5609B            None         New Jersey   \n",
       "\n",
       "                   artist_longitude        artist_name   duration num_songs  \\\n",
       "TRAAAAK128F9318786             None       Adelitas Way   213.9424         1   \n",
       "TRAAAAV128F421A322       -122.42005  Western Addiction  118.07302         1   \n",
       "TRAAABD128F429CF47        -90.04892       The Box Tops  148.03546         1   \n",
       "TRAAACN128F9355673             None   Quest_ Pup_ Kevo  252.94322         1   \n",
       "\n",
       "                               song_id                             title  year  \n",
       "TRAAAAK128F9318786  SOBLFFE12AF72AA5BA                            Scream  2009  \n",
       "TRAAAAV128F421A322  SOQPWCR12A6D4FB2A3  A Poor Recipe For Civic Cohesion  2005  \n",
       "TRAAABD128F429CF47  SOCIWDW12A8C13D406                         Soul Deep  1969  \n",
       "TRAAACN128F9355673  SOFRDWL12A58A7CEF7                      Hit Da Scene     0  "
      ]
     },
     "execution_count": 9,
     "metadata": {},
     "output_type": "execute_result"
    }
   ],
   "source": [
    "songs_preview = pd.DataFrame(\n",
    "    {\n",
    "        Path(s3_object.key).stem: json.loads(\n",
    "            udacity_bucket.Object(s3_object.key).get()[\"Body\"].read().decode(\"utf-8\")\n",
    "        )\n",
    "        for s3_object in song_objects\n",
    "        if \".json\" in s3_object.key\n",
    "    }\n",
    ").transpose()\n",
    "songs_preview"
   ]
  },
  {
   "cell_type": "code",
   "execution_count": 10,
   "metadata": {},
   "outputs": [
    {
     "data": {
      "text/plain": [
       "artist_id            object\n",
       "artist_latitude     float64\n",
       "artist_location      object\n",
       "artist_longitude    float64\n",
       "artist_name          object\n",
       "duration            float64\n",
       "num_songs             int64\n",
       "song_id              object\n",
       "title                object\n",
       "year                  int64\n",
       "dtype: object"
      ]
     },
     "execution_count": 10,
     "metadata": {},
     "output_type": "execute_result"
    }
   ],
   "source": [
    "songs_preview.infer_objects().dtypes"
   ]
  },
  {
   "cell_type": "markdown",
   "metadata": {},
   "source": [
    "### 1.3. Explore the log dataset"
   ]
  },
  {
   "cell_type": "code",
   "execution_count": 11,
   "metadata": {},
   "outputs": [
    {
     "data": {
      "text/plain": [
       "[s3.ObjectSummary(bucket_name='udacity-dend', key='log_data/'),\n",
       " s3.ObjectSummary(bucket_name='udacity-dend', key='log_data/2018/11/2018-11-01-events.json'),\n",
       " s3.ObjectSummary(bucket_name='udacity-dend', key='log_data/2018/11/2018-11-02-events.json'),\n",
       " s3.ObjectSummary(bucket_name='udacity-dend', key='log_data/2018/11/2018-11-03-events.json'),\n",
       " s3.ObjectSummary(bucket_name='udacity-dend', key='log_data/2018/11/2018-11-04-events.json')]"
      ]
     },
     "execution_count": 11,
     "metadata": {},
     "output_type": "execute_result"
    }
   ],
   "source": [
    "log_objects = [f for f in udacity_bucket.objects.limit(5).filter(Prefix=\"log_data\")]\n",
    "log_objects"
   ]
  },
  {
   "cell_type": "markdown",
   "metadata": {},
   "source": [
    "Print contents of the first log file"
   ]
  },
  {
   "cell_type": "code",
   "execution_count": 12,
   "metadata": {},
   "outputs": [],
   "source": [
    "s3_object = log_objects[1]"
   ]
  },
  {
   "cell_type": "code",
   "execution_count": 13,
   "metadata": {},
   "outputs": [
    {
     "data": {
      "text/html": [
       "<div>\n",
       "<style scoped>\n",
       "    .dataframe tbody tr th:only-of-type {\n",
       "        vertical-align: middle;\n",
       "    }\n",
       "\n",
       "    .dataframe tbody tr th {\n",
       "        vertical-align: top;\n",
       "    }\n",
       "\n",
       "    .dataframe thead th {\n",
       "        text-align: right;\n",
       "    }\n",
       "</style>\n",
       "<table border=\"1\" class=\"dataframe\">\n",
       "  <thead>\n",
       "    <tr style=\"text-align: right;\">\n",
       "      <th></th>\n",
       "      <th>artist</th>\n",
       "      <th>auth</th>\n",
       "      <th>firstName</th>\n",
       "      <th>gender</th>\n",
       "      <th>itemInSession</th>\n",
       "      <th>lastName</th>\n",
       "      <th>length</th>\n",
       "      <th>level</th>\n",
       "      <th>location</th>\n",
       "      <th>method</th>\n",
       "      <th>page</th>\n",
       "      <th>registration</th>\n",
       "      <th>sessionId</th>\n",
       "      <th>song</th>\n",
       "      <th>status</th>\n",
       "      <th>ts</th>\n",
       "      <th>userAgent</th>\n",
       "      <th>userId</th>\n",
       "    </tr>\n",
       "  </thead>\n",
       "  <tbody>\n",
       "    <tr>\n",
       "      <th>0</th>\n",
       "      <td>None</td>\n",
       "      <td>Logged In</td>\n",
       "      <td>Walter</td>\n",
       "      <td>M</td>\n",
       "      <td>0</td>\n",
       "      <td>Frye</td>\n",
       "      <td>NaN</td>\n",
       "      <td>free</td>\n",
       "      <td>San Francisco-Oakland-Hayward, CA</td>\n",
       "      <td>GET</td>\n",
       "      <td>Home</td>\n",
       "      <td>1.540919e+12</td>\n",
       "      <td>38</td>\n",
       "      <td>None</td>\n",
       "      <td>200</td>\n",
       "      <td>1541105830796</td>\n",
       "      <td>\"Mozilla/5.0 (Macintosh; Intel Mac OS X 10_9_4...</td>\n",
       "      <td>39</td>\n",
       "    </tr>\n",
       "    <tr>\n",
       "      <th>1</th>\n",
       "      <td>None</td>\n",
       "      <td>Logged In</td>\n",
       "      <td>Kaylee</td>\n",
       "      <td>F</td>\n",
       "      <td>0</td>\n",
       "      <td>Summers</td>\n",
       "      <td>NaN</td>\n",
       "      <td>free</td>\n",
       "      <td>Phoenix-Mesa-Scottsdale, AZ</td>\n",
       "      <td>GET</td>\n",
       "      <td>Home</td>\n",
       "      <td>1.540345e+12</td>\n",
       "      <td>139</td>\n",
       "      <td>None</td>\n",
       "      <td>200</td>\n",
       "      <td>1541106106796</td>\n",
       "      <td>\"Mozilla/5.0 (Windows NT 6.1; WOW64) AppleWebK...</td>\n",
       "      <td>8</td>\n",
       "    </tr>\n",
       "    <tr>\n",
       "      <th>2</th>\n",
       "      <td>Des'ree</td>\n",
       "      <td>Logged In</td>\n",
       "      <td>Kaylee</td>\n",
       "      <td>F</td>\n",
       "      <td>1</td>\n",
       "      <td>Summers</td>\n",
       "      <td>246.30812</td>\n",
       "      <td>free</td>\n",
       "      <td>Phoenix-Mesa-Scottsdale, AZ</td>\n",
       "      <td>PUT</td>\n",
       "      <td>NextSong</td>\n",
       "      <td>1.540345e+12</td>\n",
       "      <td>139</td>\n",
       "      <td>You Gotta Be</td>\n",
       "      <td>200</td>\n",
       "      <td>1541106106796</td>\n",
       "      <td>\"Mozilla/5.0 (Windows NT 6.1; WOW64) AppleWebK...</td>\n",
       "      <td>8</td>\n",
       "    </tr>\n",
       "    <tr>\n",
       "      <th>3</th>\n",
       "      <td>None</td>\n",
       "      <td>Logged In</td>\n",
       "      <td>Kaylee</td>\n",
       "      <td>F</td>\n",
       "      <td>2</td>\n",
       "      <td>Summers</td>\n",
       "      <td>NaN</td>\n",
       "      <td>free</td>\n",
       "      <td>Phoenix-Mesa-Scottsdale, AZ</td>\n",
       "      <td>GET</td>\n",
       "      <td>Upgrade</td>\n",
       "      <td>1.540345e+12</td>\n",
       "      <td>139</td>\n",
       "      <td>None</td>\n",
       "      <td>200</td>\n",
       "      <td>1541106132796</td>\n",
       "      <td>\"Mozilla/5.0 (Windows NT 6.1; WOW64) AppleWebK...</td>\n",
       "      <td>8</td>\n",
       "    </tr>\n",
       "    <tr>\n",
       "      <th>4</th>\n",
       "      <td>Mr Oizo</td>\n",
       "      <td>Logged In</td>\n",
       "      <td>Kaylee</td>\n",
       "      <td>F</td>\n",
       "      <td>3</td>\n",
       "      <td>Summers</td>\n",
       "      <td>144.03873</td>\n",
       "      <td>free</td>\n",
       "      <td>Phoenix-Mesa-Scottsdale, AZ</td>\n",
       "      <td>PUT</td>\n",
       "      <td>NextSong</td>\n",
       "      <td>1.540345e+12</td>\n",
       "      <td>139</td>\n",
       "      <td>Flat 55</td>\n",
       "      <td>200</td>\n",
       "      <td>1541106352796</td>\n",
       "      <td>\"Mozilla/5.0 (Windows NT 6.1; WOW64) AppleWebK...</td>\n",
       "      <td>8</td>\n",
       "    </tr>\n",
       "  </tbody>\n",
       "</table>\n",
       "</div>"
      ],
      "text/plain": [
       "    artist       auth firstName gender  itemInSession lastName     length  \\\n",
       "0     None  Logged In    Walter      M              0     Frye        NaN   \n",
       "1     None  Logged In    Kaylee      F              0  Summers        NaN   \n",
       "2  Des'ree  Logged In    Kaylee      F              1  Summers  246.30812   \n",
       "3     None  Logged In    Kaylee      F              2  Summers        NaN   \n",
       "4  Mr Oizo  Logged In    Kaylee      F              3  Summers  144.03873   \n",
       "\n",
       "  level                           location method      page  registration  \\\n",
       "0  free  San Francisco-Oakland-Hayward, CA    GET      Home  1.540919e+12   \n",
       "1  free        Phoenix-Mesa-Scottsdale, AZ    GET      Home  1.540345e+12   \n",
       "2  free        Phoenix-Mesa-Scottsdale, AZ    PUT  NextSong  1.540345e+12   \n",
       "3  free        Phoenix-Mesa-Scottsdale, AZ    GET   Upgrade  1.540345e+12   \n",
       "4  free        Phoenix-Mesa-Scottsdale, AZ    PUT  NextSong  1.540345e+12   \n",
       "\n",
       "   sessionId          song  status             ts  \\\n",
       "0         38          None     200  1541105830796   \n",
       "1        139          None     200  1541106106796   \n",
       "2        139  You Gotta Be     200  1541106106796   \n",
       "3        139          None     200  1541106132796   \n",
       "4        139       Flat 55     200  1541106352796   \n",
       "\n",
       "                                           userAgent userId  \n",
       "0  \"Mozilla/5.0 (Macintosh; Intel Mac OS X 10_9_4...     39  \n",
       "1  \"Mozilla/5.0 (Windows NT 6.1; WOW64) AppleWebK...      8  \n",
       "2  \"Mozilla/5.0 (Windows NT 6.1; WOW64) AppleWebK...      8  \n",
       "3  \"Mozilla/5.0 (Windows NT 6.1; WOW64) AppleWebK...      8  \n",
       "4  \"Mozilla/5.0 (Windows NT 6.1; WOW64) AppleWebK...      8  "
      ]
     },
     "execution_count": 13,
     "metadata": {},
     "output_type": "execute_result"
    }
   ],
   "source": [
    "log_preview = pd.DataFrame(\n",
    "    [\n",
    "        json.loads(x)\n",
    "        for x in (\n",
    "            udacity_bucket.Object(s3_object.key)\n",
    "            .get()[\"Body\"]\n",
    "            .read()\n",
    "            .decode(\"utf-8\")\n",
    "            .split(\"\\n\")\n",
    "        )\n",
    "    ]\n",
    ")\n",
    "log_preview.head()"
   ]
  },
  {
   "cell_type": "code",
   "execution_count": 14,
   "metadata": {},
   "outputs": [
    {
     "data": {
      "text/plain": [
       "artist            object\n",
       "auth              object\n",
       "firstName         object\n",
       "gender            object\n",
       "itemInSession      int64\n",
       "lastName          object\n",
       "length           float64\n",
       "level             object\n",
       "location          object\n",
       "method            object\n",
       "page              object\n",
       "registration     float64\n",
       "sessionId          int64\n",
       "song              object\n",
       "status             int64\n",
       "ts                 int64\n",
       "userAgent         object\n",
       "userId            object\n",
       "dtype: object"
      ]
     },
     "execution_count": 14,
     "metadata": {},
     "output_type": "execute_result"
    }
   ],
   "source": [
    "log_preview.infer_objects().dtypes"
   ]
  },
  {
   "cell_type": "markdown",
   "metadata": {},
   "source": [
    "## 2. Create Amazon Redshift cluster\n"
   ]
  },
  {
   "cell_type": "code",
   "execution_count": 15,
   "metadata": {},
   "outputs": [
    {
     "name": "stdout",
     "output_type": "stream",
     "text": [
      "Waiting for Redshift cluster to become available...\n",
      "Redshift cluster is ready to be used!\n",
      "ec2.SecurityGroup(id='sg-09c515e9660d60716')\n",
      "An error occurred (InvalidPermission.Duplicate) when calling the AuthorizeSecurityGroupIngress operation: the specified rule \"peer: 0.0.0.0/0, TCP, from port: 5439, to port: 5439, ALLOW\" already exists\n"
     ]
    }
   ],
   "source": [
    "cluster_props, redshift_client, iam_client = run_create_dwh()"
   ]
  },
  {
   "cell_type": "markdown",
   "metadata": {},
   "source": [
    "Reload config files after cluster creation, as they might include new fields"
   ]
  },
  {
   "cell_type": "code",
   "execution_count": 16,
   "metadata": {},
   "outputs": [],
   "source": [
    "user_config, dwh_config = (\n",
    "    process_config(Path(\"../_user.cfg\")),\n",
    "    process_config(Path(\"../dwh.cfg\")),\n",
    ")"
   ]
  },
  {
   "cell_type": "markdown",
   "metadata": {},
   "source": [
    "## 3. Create staging and star schema tables\n"
   ]
  },
  {
   "cell_type": "markdown",
   "metadata": {},
   "source": [
    "Create tables"
   ]
  },
  {
   "cell_type": "code",
   "execution_count": 17,
   "metadata": {},
   "outputs": [],
   "source": [
    "run_create_tables()"
   ]
  },
  {
   "cell_type": "markdown",
   "metadata": {},
   "source": [
    "## 4. Perform ETL\n"
   ]
  },
  {
   "cell_type": "code",
   "execution_count": 18,
   "metadata": {},
   "outputs": [
    {
     "data": {
      "application/vnd.jupyter.widget-view+json": {
       "model_id": "20947e1298db4a3c804eecea9eb00eed",
       "version_major": 2,
       "version_minor": 0
      },
      "text/plain": [
       "Output()"
      ]
     },
     "metadata": {},
     "output_type": "display_data"
    },
    {
     "data": {
      "text/html": [
       "<pre style=\"white-space:pre;overflow-x:auto;line-height:normal;font-family:Menlo,'DejaVu Sans Mono',consolas,'Courier New',monospace\"></pre>\n"
      ],
      "text/plain": []
     },
     "metadata": {},
     "output_type": "display_data"
    },
    {
     "data": {
      "text/html": [
       "<pre style=\"white-space:pre;overflow-x:auto;line-height:normal;font-family:Menlo,'DejaVu Sans Mono',consolas,'Courier New',monospace\">\n",
       "</pre>\n"
      ],
      "text/plain": [
       "\n"
      ]
     },
     "metadata": {},
     "output_type": "display_data"
    },
    {
     "data": {
      "application/vnd.jupyter.widget-view+json": {
       "model_id": "da12a598353240b582901a9dfa0003b8",
       "version_major": 2,
       "version_minor": 0
      },
      "text/plain": [
       "Output()"
      ]
     },
     "metadata": {},
     "output_type": "display_data"
    },
    {
     "data": {
      "text/html": [
       "<pre style=\"white-space:pre;overflow-x:auto;line-height:normal;font-family:Menlo,'DejaVu Sans Mono',consolas,'Courier New',monospace\"></pre>\n"
      ],
      "text/plain": []
     },
     "metadata": {},
     "output_type": "display_data"
    },
    {
     "data": {
      "text/html": [
       "<pre style=\"white-space:pre;overflow-x:auto;line-height:normal;font-family:Menlo,'DejaVu Sans Mono',consolas,'Courier New',monospace\">\n",
       "</pre>\n"
      ],
      "text/plain": [
       "\n"
      ]
     },
     "metadata": {},
     "output_type": "display_data"
    }
   ],
   "source": [
    "run_etl()"
   ]
  },
  {
   "cell_type": "markdown",
   "metadata": {},
   "source": [
    "## 5. Perform some example queries for validation\n"
   ]
  },
  {
   "cell_type": "markdown",
   "metadata": {},
   "source": [
    "### 5.1. Get DB connection"
   ]
  },
  {
   "cell_type": "code",
   "execution_count": 19,
   "metadata": {},
   "outputs": [],
   "source": [
    "conn, cur = get_db_connection(dwh_config)"
   ]
  },
  {
   "cell_type": "markdown",
   "metadata": {},
   "source": [
    "### 5.2. Get a preview of all star schema tables"
   ]
  },
  {
   "cell_type": "code",
   "execution_count": 20,
   "metadata": {},
   "outputs": [
    {
     "name": "stdout",
     "output_type": "stream",
     "text": [
      "Preview of 'dim_users':\n"
     ]
    },
    {
     "data": {
      "text/html": [
       "<div>\n",
       "<style scoped>\n",
       "    .dataframe tbody tr th:only-of-type {\n",
       "        vertical-align: middle;\n",
       "    }\n",
       "\n",
       "    .dataframe tbody tr th {\n",
       "        vertical-align: top;\n",
       "    }\n",
       "\n",
       "    .dataframe thead th {\n",
       "        text-align: right;\n",
       "    }\n",
       "</style>\n",
       "<table border=\"1\" class=\"dataframe\">\n",
       "  <thead>\n",
       "    <tr style=\"text-align: right;\">\n",
       "      <th></th>\n",
       "      <th>user_id</th>\n",
       "      <th>first_name</th>\n",
       "      <th>last_name</th>\n",
       "      <th>gender</th>\n",
       "      <th>level</th>\n",
       "    </tr>\n",
       "  </thead>\n",
       "  <tbody>\n",
       "    <tr>\n",
       "      <th>0</th>\n",
       "      <td>52</td>\n",
       "      <td>Theodore</td>\n",
       "      <td>Smith</td>\n",
       "      <td>M</td>\n",
       "      <td>free</td>\n",
       "    </tr>\n",
       "    <tr>\n",
       "      <th>1</th>\n",
       "      <td>99</td>\n",
       "      <td>Ann</td>\n",
       "      <td>Banks</td>\n",
       "      <td>F</td>\n",
       "      <td>free</td>\n",
       "    </tr>\n",
       "    <tr>\n",
       "      <th>2</th>\n",
       "      <td>43</td>\n",
       "      <td>Jahiem</td>\n",
       "      <td>Miles</td>\n",
       "      <td>M</td>\n",
       "      <td>free</td>\n",
       "    </tr>\n",
       "    <tr>\n",
       "      <th>3</th>\n",
       "      <td>6</td>\n",
       "      <td>Cecilia</td>\n",
       "      <td>Owens</td>\n",
       "      <td>F</td>\n",
       "      <td>free</td>\n",
       "    </tr>\n",
       "    <tr>\n",
       "      <th>4</th>\n",
       "      <td>25</td>\n",
       "      <td>Jayden</td>\n",
       "      <td>Graves</td>\n",
       "      <td>M</td>\n",
       "      <td>paid</td>\n",
       "    </tr>\n",
       "  </tbody>\n",
       "</table>\n",
       "</div>"
      ],
      "text/plain": [
       "   user_id first_name last_name gender level\n",
       "0       52   Theodore     Smith      M  free\n",
       "1       99        Ann     Banks      F  free\n",
       "2       43     Jahiem     Miles      M  free\n",
       "3        6    Cecilia     Owens      F  free\n",
       "4       25     Jayden    Graves      M  paid"
      ]
     },
     "metadata": {},
     "output_type": "display_data"
    },
    {
     "name": "stdout",
     "output_type": "stream",
     "text": [
      "\n",
      "\n",
      "Preview of 'dim_artists':\n"
     ]
    },
    {
     "data": {
      "text/html": [
       "<div>\n",
       "<style scoped>\n",
       "    .dataframe tbody tr th:only-of-type {\n",
       "        vertical-align: middle;\n",
       "    }\n",
       "\n",
       "    .dataframe tbody tr th {\n",
       "        vertical-align: top;\n",
       "    }\n",
       "\n",
       "    .dataframe thead th {\n",
       "        text-align: right;\n",
       "    }\n",
       "</style>\n",
       "<table border=\"1\" class=\"dataframe\">\n",
       "  <thead>\n",
       "    <tr style=\"text-align: right;\">\n",
       "      <th></th>\n",
       "      <th>artist_id</th>\n",
       "      <th>name</th>\n",
       "      <th>location</th>\n",
       "      <th>latitude</th>\n",
       "      <th>longitude</th>\n",
       "    </tr>\n",
       "  </thead>\n",
       "  <tbody>\n",
       "    <tr>\n",
       "      <th>0</th>\n",
       "      <td>ARSSDXP1250940EA97</td>\n",
       "      <td>Benito Kamelas</td>\n",
       "      <td></td>\n",
       "      <td>NaN</td>\n",
       "      <td>NaN</td>\n",
       "    </tr>\n",
       "    <tr>\n",
       "      <th>1</th>\n",
       "      <td>ARDDQKN1187FB50651</td>\n",
       "      <td>Rednex</td>\n",
       "      <td></td>\n",
       "      <td>NaN</td>\n",
       "      <td>NaN</td>\n",
       "    </tr>\n",
       "    <tr>\n",
       "      <th>2</th>\n",
       "      <td>ARZACJ71187FB42C7B</td>\n",
       "      <td>Barbecue Bob</td>\n",
       "      <td>Walnut Grove, GA</td>\n",
       "      <td>33.74172</td>\n",
       "      <td>-83.85361</td>\n",
       "    </tr>\n",
       "    <tr>\n",
       "      <th>3</th>\n",
       "      <td>ARVSDB11187FB4270B</td>\n",
       "      <td>The Creation</td>\n",
       "      <td>Middlesex, England</td>\n",
       "      <td>51.55615</td>\n",
       "      <td>-0.25969</td>\n",
       "    </tr>\n",
       "    <tr>\n",
       "      <th>4</th>\n",
       "      <td>AR1W00P1187B9A3A3D</td>\n",
       "      <td>Mac Lethal</td>\n",
       "      <td>Kansas City</td>\n",
       "      <td>39.10295</td>\n",
       "      <td>-94.58306</td>\n",
       "    </tr>\n",
       "  </tbody>\n",
       "</table>\n",
       "</div>"
      ],
      "text/plain": [
       "            artist_id            name            location  latitude  longitude\n",
       "0  ARSSDXP1250940EA97  Benito Kamelas                           NaN        NaN\n",
       "1  ARDDQKN1187FB50651          Rednex                           NaN        NaN\n",
       "2  ARZACJ71187FB42C7B    Barbecue Bob    Walnut Grove, GA  33.74172  -83.85361\n",
       "3  ARVSDB11187FB4270B    The Creation  Middlesex, England  51.55615   -0.25969\n",
       "4  AR1W00P1187B9A3A3D      Mac Lethal         Kansas City  39.10295  -94.58306"
      ]
     },
     "metadata": {},
     "output_type": "display_data"
    },
    {
     "name": "stdout",
     "output_type": "stream",
     "text": [
      "\n",
      "\n",
      "Preview of 'dim_songs':\n"
     ]
    },
    {
     "data": {
      "text/html": [
       "<div>\n",
       "<style scoped>\n",
       "    .dataframe tbody tr th:only-of-type {\n",
       "        vertical-align: middle;\n",
       "    }\n",
       "\n",
       "    .dataframe tbody tr th {\n",
       "        vertical-align: top;\n",
       "    }\n",
       "\n",
       "    .dataframe thead th {\n",
       "        text-align: right;\n",
       "    }\n",
       "</style>\n",
       "<table border=\"1\" class=\"dataframe\">\n",
       "  <thead>\n",
       "    <tr style=\"text-align: right;\">\n",
       "      <th></th>\n",
       "      <th>song_id</th>\n",
       "      <th>title</th>\n",
       "      <th>artist_id</th>\n",
       "      <th>year</th>\n",
       "      <th>duration</th>\n",
       "    </tr>\n",
       "  </thead>\n",
       "  <tbody>\n",
       "    <tr>\n",
       "      <th>0</th>\n",
       "      <td>SOCBRSU12AB017B03B</td>\n",
       "      <td>City of Jerusalem</td>\n",
       "      <td>ARGLI7X1187B9930BB</td>\n",
       "      <td>2007</td>\n",
       "      <td>190</td>\n",
       "    </tr>\n",
       "    <tr>\n",
       "      <th>1</th>\n",
       "      <td>SOVWNAS12A8C130573</td>\n",
       "      <td>Heart Half Empty</td>\n",
       "      <td>ART09111187FB5BF48</td>\n",
       "      <td>0</td>\n",
       "      <td>295</td>\n",
       "    </tr>\n",
       "    <tr>\n",
       "      <th>2</th>\n",
       "      <td>SOEUYKY12A58A7A7FF</td>\n",
       "      <td>Goodbye Old Paint</td>\n",
       "      <td>ARSC7F71187FB52B7C</td>\n",
       "      <td>0</td>\n",
       "      <td>170</td>\n",
       "    </tr>\n",
       "    <tr>\n",
       "      <th>3</th>\n",
       "      <td>SOQUGOE12A6D4FA6FF</td>\n",
       "      <td>Awesome God</td>\n",
       "      <td>ARKC83D1187B9AB367</td>\n",
       "      <td>0</td>\n",
       "      <td>181</td>\n",
       "    </tr>\n",
       "    <tr>\n",
       "      <th>4</th>\n",
       "      <td>SONCXRN12A58A78503</td>\n",
       "      <td>The Silky Veils Of Ardor (LP Version)</td>\n",
       "      <td>ARQXK0B1187B9ACC97</td>\n",
       "      <td>1977</td>\n",
       "      <td>241</td>\n",
       "    </tr>\n",
       "  </tbody>\n",
       "</table>\n",
       "</div>"
      ],
      "text/plain": [
       "              song_id                                  title  \\\n",
       "0  SOCBRSU12AB017B03B                      City of Jerusalem   \n",
       "1  SOVWNAS12A8C130573                       Heart Half Empty   \n",
       "2  SOEUYKY12A58A7A7FF                      Goodbye Old Paint   \n",
       "3  SOQUGOE12A6D4FA6FF                            Awesome God   \n",
       "4  SONCXRN12A58A78503  The Silky Veils Of Ardor (LP Version)   \n",
       "\n",
       "            artist_id  year duration  \n",
       "0  ARGLI7X1187B9930BB  2007      190  \n",
       "1  ART09111187FB5BF48     0      295  \n",
       "2  ARSC7F71187FB52B7C     0      170  \n",
       "3  ARKC83D1187B9AB367     0      181  \n",
       "4  ARQXK0B1187B9ACC97  1977      241  "
      ]
     },
     "metadata": {},
     "output_type": "display_data"
    },
    {
     "name": "stdout",
     "output_type": "stream",
     "text": [
      "\n",
      "\n",
      "Preview of 'dim_time':\n"
     ]
    },
    {
     "data": {
      "text/html": [
       "<div>\n",
       "<style scoped>\n",
       "    .dataframe tbody tr th:only-of-type {\n",
       "        vertical-align: middle;\n",
       "    }\n",
       "\n",
       "    .dataframe tbody tr th {\n",
       "        vertical-align: top;\n",
       "    }\n",
       "\n",
       "    .dataframe thead th {\n",
       "        text-align: right;\n",
       "    }\n",
       "</style>\n",
       "<table border=\"1\" class=\"dataframe\">\n",
       "  <thead>\n",
       "    <tr style=\"text-align: right;\">\n",
       "      <th></th>\n",
       "      <th>start_time</th>\n",
       "      <th>hour</th>\n",
       "      <th>day</th>\n",
       "      <th>week</th>\n",
       "      <th>month</th>\n",
       "      <th>year</th>\n",
       "      <th>weekday</th>\n",
       "    </tr>\n",
       "  </thead>\n",
       "  <tbody>\n",
       "    <tr>\n",
       "      <th>0</th>\n",
       "      <td>2018-11-04 00:15:55</td>\n",
       "      <td>0</td>\n",
       "      <td>4</td>\n",
       "      <td>44</td>\n",
       "      <td>11</td>\n",
       "      <td>2018</td>\n",
       "      <td>0</td>\n",
       "    </tr>\n",
       "    <tr>\n",
       "      <th>1</th>\n",
       "      <td>2018-11-04 00:50:03</td>\n",
       "      <td>0</td>\n",
       "      <td>4</td>\n",
       "      <td>44</td>\n",
       "      <td>11</td>\n",
       "      <td>2018</td>\n",
       "      <td>0</td>\n",
       "    </tr>\n",
       "    <tr>\n",
       "      <th>2</th>\n",
       "      <td>2018-11-04 02:37:13</td>\n",
       "      <td>2</td>\n",
       "      <td>4</td>\n",
       "      <td>44</td>\n",
       "      <td>11</td>\n",
       "      <td>2018</td>\n",
       "      <td>0</td>\n",
       "    </tr>\n",
       "    <tr>\n",
       "      <th>3</th>\n",
       "      <td>2018-11-04 02:54:52</td>\n",
       "      <td>2</td>\n",
       "      <td>4</td>\n",
       "      <td>44</td>\n",
       "      <td>11</td>\n",
       "      <td>2018</td>\n",
       "      <td>0</td>\n",
       "    </tr>\n",
       "    <tr>\n",
       "      <th>4</th>\n",
       "      <td>2018-11-04 02:58:57</td>\n",
       "      <td>2</td>\n",
       "      <td>4</td>\n",
       "      <td>44</td>\n",
       "      <td>11</td>\n",
       "      <td>2018</td>\n",
       "      <td>0</td>\n",
       "    </tr>\n",
       "  </tbody>\n",
       "</table>\n",
       "</div>"
      ],
      "text/plain": [
       "           start_time  hour  day  week  month  year  weekday\n",
       "0 2018-11-04 00:15:55     0    4    44     11  2018        0\n",
       "1 2018-11-04 00:50:03     0    4    44     11  2018        0\n",
       "2 2018-11-04 02:37:13     2    4    44     11  2018        0\n",
       "3 2018-11-04 02:54:52     2    4    44     11  2018        0\n",
       "4 2018-11-04 02:58:57     2    4    44     11  2018        0"
      ]
     },
     "metadata": {},
     "output_type": "display_data"
    },
    {
     "name": "stdout",
     "output_type": "stream",
     "text": [
      "\n",
      "\n",
      "Preview of 'fact_songplays':\n"
     ]
    },
    {
     "data": {
      "text/html": [
       "<div>\n",
       "<style scoped>\n",
       "    .dataframe tbody tr th:only-of-type {\n",
       "        vertical-align: middle;\n",
       "    }\n",
       "\n",
       "    .dataframe tbody tr th {\n",
       "        vertical-align: top;\n",
       "    }\n",
       "\n",
       "    .dataframe thead th {\n",
       "        text-align: right;\n",
       "    }\n",
       "</style>\n",
       "<table border=\"1\" class=\"dataframe\">\n",
       "  <thead>\n",
       "    <tr style=\"text-align: right;\">\n",
       "      <th></th>\n",
       "      <th>songplay_id</th>\n",
       "      <th>start_time</th>\n",
       "      <th>user_id</th>\n",
       "      <th>level</th>\n",
       "      <th>song_id</th>\n",
       "      <th>artist_id</th>\n",
       "      <th>session_id</th>\n",
       "      <th>location</th>\n",
       "      <th>user_agent</th>\n",
       "    </tr>\n",
       "  </thead>\n",
       "  <tbody>\n",
       "    <tr>\n",
       "      <th>0</th>\n",
       "      <td>36</td>\n",
       "      <td>2018-11-05 18:10:41</td>\n",
       "      <td>97</td>\n",
       "      <td>paid</td>\n",
       "      <td>SOSUDUZ12AB017D1A1</td>\n",
       "      <td>Stavento</td>\n",
       "      <td>147</td>\n",
       "      <td>Lansing-East Lansing, MI</td>\n",
       "      <td>\"Mozilla/5.0 (X11; Linux x86_64) AppleWebKit/5...</td>\n",
       "    </tr>\n",
       "    <tr>\n",
       "      <th>1</th>\n",
       "      <td>100</td>\n",
       "      <td>2018-11-18 18:47:45</td>\n",
       "      <td>29</td>\n",
       "      <td>paid</td>\n",
       "      <td>SOTCYEO12A6D4F9DD7</td>\n",
       "      <td>Reel Big Fish</td>\n",
       "      <td>589</td>\n",
       "      <td>Atlanta-Sandy Springs-Roswell, GA</td>\n",
       "      <td>\"Mozilla/5.0 (Macintosh; Intel Mac OS X 10_9_4...</td>\n",
       "    </tr>\n",
       "    <tr>\n",
       "      <th>2</th>\n",
       "      <td>164</td>\n",
       "      <td>2018-11-28 17:06:33</td>\n",
       "      <td>26</td>\n",
       "      <td>free</td>\n",
       "      <td>SOXOURR12AB0186379</td>\n",
       "      <td>Angels Of Light &amp; Akron/Family</td>\n",
       "      <td>991</td>\n",
       "      <td>San Jose-Sunnyvale-Santa Clara, CA</td>\n",
       "      <td>\"Mozilla/5.0 (X11; Linux x86_64) AppleWebKit/5...</td>\n",
       "    </tr>\n",
       "    <tr>\n",
       "      <th>3</th>\n",
       "      <td>228</td>\n",
       "      <td>2018-11-05 16:44:24</td>\n",
       "      <td>97</td>\n",
       "      <td>paid</td>\n",
       "      <td>SOBHMBE12AB0188C09</td>\n",
       "      <td>Franz Ferdinand</td>\n",
       "      <td>147</td>\n",
       "      <td>Lansing-East Lansing, MI</td>\n",
       "      <td>\"Mozilla/5.0 (X11; Linux x86_64) AppleWebKit/5...</td>\n",
       "    </tr>\n",
       "    <tr>\n",
       "      <th>4</th>\n",
       "      <td>292</td>\n",
       "      <td>2018-11-26 07:04:19</td>\n",
       "      <td>49</td>\n",
       "      <td>paid</td>\n",
       "      <td>SOGNKOW12A8AE47643</td>\n",
       "      <td>Rufus Wainwright</td>\n",
       "      <td>930</td>\n",
       "      <td>San Francisco-Oakland-Hayward, CA</td>\n",
       "      <td>Mozilla/5.0 (Windows NT 5.1; rv:31.0) Gecko/20...</td>\n",
       "    </tr>\n",
       "  </tbody>\n",
       "</table>\n",
       "</div>"
      ],
      "text/plain": [
       "   songplay_id          start_time  user_id level             song_id  \\\n",
       "0           36 2018-11-05 18:10:41       97  paid  SOSUDUZ12AB017D1A1   \n",
       "1          100 2018-11-18 18:47:45       29  paid  SOTCYEO12A6D4F9DD7   \n",
       "2          164 2018-11-28 17:06:33       26  free  SOXOURR12AB0186379   \n",
       "3          228 2018-11-05 16:44:24       97  paid  SOBHMBE12AB0188C09   \n",
       "4          292 2018-11-26 07:04:19       49  paid  SOGNKOW12A8AE47643   \n",
       "\n",
       "                        artist_id  session_id  \\\n",
       "0                        Stavento         147   \n",
       "1                   Reel Big Fish         589   \n",
       "2  Angels Of Light & Akron/Family         991   \n",
       "3                 Franz Ferdinand         147   \n",
       "4                Rufus Wainwright         930   \n",
       "\n",
       "                             location  \\\n",
       "0            Lansing-East Lansing, MI   \n",
       "1   Atlanta-Sandy Springs-Roswell, GA   \n",
       "2  San Jose-Sunnyvale-Santa Clara, CA   \n",
       "3            Lansing-East Lansing, MI   \n",
       "4   San Francisco-Oakland-Hayward, CA   \n",
       "\n",
       "                                          user_agent  \n",
       "0  \"Mozilla/5.0 (X11; Linux x86_64) AppleWebKit/5...  \n",
       "1  \"Mozilla/5.0 (Macintosh; Intel Mac OS X 10_9_4...  \n",
       "2  \"Mozilla/5.0 (X11; Linux x86_64) AppleWebKit/5...  \n",
       "3  \"Mozilla/5.0 (X11; Linux x86_64) AppleWebKit/5...  \n",
       "4  Mozilla/5.0 (Windows NT 5.1; rv:31.0) Gecko/20...  "
      ]
     },
     "metadata": {},
     "output_type": "display_data"
    },
    {
     "name": "stdout",
     "output_type": "stream",
     "text": [
      "\n",
      "\n"
     ]
    }
   ],
   "source": [
    "query_columns = (\"table_name\", \"column_name\", \"data_type\")\n",
    "\n",
    "for table_name, table_cols in STAR_TABLES.items():\n",
    "    columns = [col.split(\" \")[0] for col in table_cols]\n",
    "\n",
    "    cur.execute(get_simple_select_query(table_name, (\"*\",), limit=5))\n",
    "    print(f\"Preview of '{table_name}':\")\n",
    "    ICD.display(pd.DataFrame(cur.fetchall(), columns=columns))\n",
    "    print(\"\\n\")"
   ]
  },
  {
   "cell_type": "markdown",
   "metadata": {},
   "source": [
    "### 5.3. How many records are there in each table?"
   ]
  },
  {
   "cell_type": "code",
   "execution_count": 21,
   "metadata": {},
   "outputs": [
    {
     "name": "stdout",
     "output_type": "stream",
     "text": [
      "dim_users has 105 records.\n",
      "dim_artists has 10025 records.\n",
      "dim_songs has 14896 records.\n",
      "dim_time has 8023 records.\n",
      "fact_songplays has 1144 records.\n"
     ]
    }
   ],
   "source": [
    "for table_name in STAR_TABLES.keys():\n",
    "    cur.execute(f\"SELECT count(*) FROM {table_name}\")\n",
    "    print(f\"{table_name} has {cur.fetchone()[0]} records.\")"
   ]
  },
  {
   "cell_type": "markdown",
   "metadata": {},
   "source": [
    "### 5.4. Who are the top 5 users with the highest activity?"
   ]
  },
  {
   "cell_type": "code",
   "execution_count": 22,
   "metadata": {},
   "outputs": [
    {
     "data": {
      "text/html": [
       "<div>\n",
       "<style scoped>\n",
       "    .dataframe tbody tr th:only-of-type {\n",
       "        vertical-align: middle;\n",
       "    }\n",
       "\n",
       "    .dataframe tbody tr th {\n",
       "        vertical-align: top;\n",
       "    }\n",
       "\n",
       "    .dataframe thead th {\n",
       "        text-align: right;\n",
       "    }\n",
       "</style>\n",
       "<table border=\"1\" class=\"dataframe\">\n",
       "  <thead>\n",
       "    <tr style=\"text-align: right;\">\n",
       "      <th></th>\n",
       "      <th>user_id</th>\n",
       "      <th>first_name</th>\n",
       "      <th>second_name</th>\n",
       "      <th>count</th>\n",
       "    </tr>\n",
       "  </thead>\n",
       "  <tbody>\n",
       "    <tr>\n",
       "      <th>0</th>\n",
       "      <td>80</td>\n",
       "      <td>Tegan</td>\n",
       "      <td>Levine</td>\n",
       "      <td>147</td>\n",
       "    </tr>\n",
       "    <tr>\n",
       "      <th>1</th>\n",
       "      <td>49</td>\n",
       "      <td>Chloe</td>\n",
       "      <td>Cuevas</td>\n",
       "      <td>118</td>\n",
       "    </tr>\n",
       "    <tr>\n",
       "      <th>2</th>\n",
       "      <td>97</td>\n",
       "      <td>Kate</td>\n",
       "      <td>Harrell</td>\n",
       "      <td>84</td>\n",
       "    </tr>\n",
       "    <tr>\n",
       "      <th>3</th>\n",
       "      <td>24</td>\n",
       "      <td>Layla</td>\n",
       "      <td>Griffin</td>\n",
       "      <td>77</td>\n",
       "    </tr>\n",
       "    <tr>\n",
       "      <th>4</th>\n",
       "      <td>15</td>\n",
       "      <td>Lily</td>\n",
       "      <td>Koch</td>\n",
       "      <td>59</td>\n",
       "    </tr>\n",
       "  </tbody>\n",
       "</table>\n",
       "</div>"
      ],
      "text/plain": [
       "   user_id first_name second_name  count\n",
       "0       80      Tegan      Levine    147\n",
       "1       49      Chloe      Cuevas    118\n",
       "2       97       Kate     Harrell     84\n",
       "3       24      Layla     Griffin     77\n",
       "4       15       Lily        Koch     59"
      ]
     },
     "execution_count": 22,
     "metadata": {},
     "output_type": "execute_result"
    }
   ],
   "source": [
    "cur.execute(\n",
    "    \"\"\"\n",
    "    SELECT\n",
    "        sub.user_id, du.first_name, du.last_name, sub.counted\n",
    "    FROM\n",
    "        (\n",
    "            SELECT\n",
    "                fs.user_id, count(*) AS counted\n",
    "            FROM\n",
    "                fact_songplays fs\n",
    "            JOIN\n",
    "                dim_users du\n",
    "            ON\n",
    "                fs.user_id = du.user_id\n",
    "            GROUP BY\n",
    "                fs.user_id\n",
    "        ) sub\n",
    "    JOIN\n",
    "        dim_users du ON sub.user_id = du.user_id\n",
    "    ORDER BY\n",
    "        sub.counted DESC, user_id\n",
    "    LIMIT 5\n",
    "    \"\"\"\n",
    ")\n",
    "pd.DataFrame(cur.fetchall(), columns=(\"user_id\", \"first_name\", \"second_name\", \"count\"))"
   ]
  },
  {
   "cell_type": "markdown",
   "metadata": {},
   "source": [
    "## 6. Close and shutdown all resources\n"
   ]
  },
  {
   "cell_type": "code",
   "execution_count": null,
   "metadata": {},
   "outputs": [],
   "source": [
    "conn.close()"
   ]
  },
  {
   "cell_type": "code",
   "execution_count": 23,
   "metadata": {},
   "outputs": [],
   "source": [
    "delete_cluster(redshift_client, dwh_config)\n",
    "delete_iam_roles(iam_client, dwh_config)"
   ]
  }
 ],
 "metadata": {
  "kernelspec": {
   "display_name": "Python 3.10.6 ('sparkify_redshift')",
   "language": "python",
   "name": "python3"
  },
  "language_info": {
   "codemirror_mode": {
    "name": "ipython",
    "version": 3
   },
   "file_extension": ".py",
   "mimetype": "text/x-python",
   "name": "python",
   "nbconvert_exporter": "python",
   "pygments_lexer": "ipython3",
   "version": "3.10.6"
  },
  "orig_nbformat": 4,
  "vscode": {
   "interpreter": {
    "hash": "9bf4862f7aaef52f488db232afefd1593f4213559f3de25ba909b8a0c474d1f1"
   }
  }
 },
 "nbformat": 4,
 "nbformat_minor": 2
}
